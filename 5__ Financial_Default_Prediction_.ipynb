{
  "nbformat": 4,
  "nbformat_minor": 0,
  "metadata": {
    "colab": {
      "provenance": []
    },
    "kernelspec": {
      "name": "python3",
      "display_name": "Python 3"
    },
    "language_info": {
      "name": "python"
    }
  },
  "cells": [
    {
      "cell_type": "code",
      "execution_count": null,
      "metadata": {
        "id": "YomGRvPQNf6I"
      },
      "outputs": [],
      "source": []
    },
    {
      "cell_type": "markdown",
      "source": [
        "## **Financial Default Prediction - Credit Risk**\n",
        "**Problem statement :** Building a Financial Defult Prediction - Credit Risk Project based on Data from Kaggle that has person Financial Information and past Loan Information along with Demographic information.\n"
      ],
      "metadata": {
        "id": "4zDEh2PcNtYW"
      }
    },
    {
      "cell_type": "markdown",
      "source": [
        "### **Project Methodology**\n",
        "\n",
        "- This Project using the Kaggle Data of Loan Default Prediction.\n",
        "- Using Python, that load data and then pre-processed and saved in CSV File.\n",
        "- Loading that same CSV file to insert into Vector DB using Embedding Model from Hugging Face.\n",
        "- Building RAG QA Chain using Langchain and building the RAG architecture using Zypher 7B LLM (Open Source).\n",
        "- Checking the Response if it will Default or not."
      ],
      "metadata": {
        "id": "EbwanyL3PMyV"
      }
    },
    {
      "cell_type": "code",
      "source": [
        "import pandas as pd\n",
        "import numpy as np\n",
        "\n",
        "df= pd.read_csv('/content/Loan_default.csv')\n",
        "df.head()"
      ],
      "metadata": {
        "id": "6K8h7h2jNwik",
        "colab": {
          "base_uri": "https://localhost:8080/",
          "height": 243
        },
        "outputId": "4ab30eab-d1bf-41cf-f159-d6a7ac85cce7"
      },
      "execution_count": 2,
      "outputs": [
        {
          "output_type": "execute_result",
          "data": {
            "text/plain": [
              "       LoanID  Age  Income  LoanAmount  CreditScore  MonthsEmployed  \\\n",
              "0  I38PQUQS96   56   85994       50587          520              80   \n",
              "1  HPSK72WA7R   69   50432      124440          458              15   \n",
              "2  C1OZ6DPJ8Y   46   84208      129188          451              26   \n",
              "3  V2KKSFM3UN   32   31713       44799          743               0   \n",
              "4  EY08JDHTZP   60   20437        9139          633               8   \n",
              "\n",
              "   NumCreditLines  InterestRate  LoanTerm  DTIRatio    Education  \\\n",
              "0               4         15.23        36      0.44   Bachelor's   \n",
              "1               1          4.81        60      0.68     Master's   \n",
              "2               3         21.17        24      0.31     Master's   \n",
              "3               3          7.07        24      0.23  High School   \n",
              "4               4          6.51        48      0.73   Bachelor's   \n",
              "\n",
              "  EmploymentType MaritalStatus HasMortgage HasDependents LoanPurpose  \\\n",
              "0      Full-time      Divorced         Yes           Yes       Other   \n",
              "1      Full-time       Married          No            No       Other   \n",
              "2     Unemployed      Divorced         Yes           Yes        Auto   \n",
              "3      Full-time       Married          No            No    Business   \n",
              "4     Unemployed      Divorced          No           Yes        Auto   \n",
              "\n",
              "  HasCoSigner  Default  \n",
              "0         Yes        0  \n",
              "1         Yes        0  \n",
              "2          No        1  \n",
              "3          No        0  \n",
              "4          No        0  "
            ],
            "text/html": [
              "\n",
              "  <div id=\"df-a7470410-5ef5-48c8-a07f-2e6fae6c0e96\" class=\"colab-df-container\">\n",
              "    <div>\n",
              "<style scoped>\n",
              "    .dataframe tbody tr th:only-of-type {\n",
              "        vertical-align: middle;\n",
              "    }\n",
              "\n",
              "    .dataframe tbody tr th {\n",
              "        vertical-align: top;\n",
              "    }\n",
              "\n",
              "    .dataframe thead th {\n",
              "        text-align: right;\n",
              "    }\n",
              "</style>\n",
              "<table border=\"1\" class=\"dataframe\">\n",
              "  <thead>\n",
              "    <tr style=\"text-align: right;\">\n",
              "      <th></th>\n",
              "      <th>LoanID</th>\n",
              "      <th>Age</th>\n",
              "      <th>Income</th>\n",
              "      <th>LoanAmount</th>\n",
              "      <th>CreditScore</th>\n",
              "      <th>MonthsEmployed</th>\n",
              "      <th>NumCreditLines</th>\n",
              "      <th>InterestRate</th>\n",
              "      <th>LoanTerm</th>\n",
              "      <th>DTIRatio</th>\n",
              "      <th>Education</th>\n",
              "      <th>EmploymentType</th>\n",
              "      <th>MaritalStatus</th>\n",
              "      <th>HasMortgage</th>\n",
              "      <th>HasDependents</th>\n",
              "      <th>LoanPurpose</th>\n",
              "      <th>HasCoSigner</th>\n",
              "      <th>Default</th>\n",
              "    </tr>\n",
              "  </thead>\n",
              "  <tbody>\n",
              "    <tr>\n",
              "      <th>0</th>\n",
              "      <td>I38PQUQS96</td>\n",
              "      <td>56</td>\n",
              "      <td>85994</td>\n",
              "      <td>50587</td>\n",
              "      <td>520</td>\n",
              "      <td>80</td>\n",
              "      <td>4</td>\n",
              "      <td>15.23</td>\n",
              "      <td>36</td>\n",
              "      <td>0.44</td>\n",
              "      <td>Bachelor's</td>\n",
              "      <td>Full-time</td>\n",
              "      <td>Divorced</td>\n",
              "      <td>Yes</td>\n",
              "      <td>Yes</td>\n",
              "      <td>Other</td>\n",
              "      <td>Yes</td>\n",
              "      <td>0</td>\n",
              "    </tr>\n",
              "    <tr>\n",
              "      <th>1</th>\n",
              "      <td>HPSK72WA7R</td>\n",
              "      <td>69</td>\n",
              "      <td>50432</td>\n",
              "      <td>124440</td>\n",
              "      <td>458</td>\n",
              "      <td>15</td>\n",
              "      <td>1</td>\n",
              "      <td>4.81</td>\n",
              "      <td>60</td>\n",
              "      <td>0.68</td>\n",
              "      <td>Master's</td>\n",
              "      <td>Full-time</td>\n",
              "      <td>Married</td>\n",
              "      <td>No</td>\n",
              "      <td>No</td>\n",
              "      <td>Other</td>\n",
              "      <td>Yes</td>\n",
              "      <td>0</td>\n",
              "    </tr>\n",
              "    <tr>\n",
              "      <th>2</th>\n",
              "      <td>C1OZ6DPJ8Y</td>\n",
              "      <td>46</td>\n",
              "      <td>84208</td>\n",
              "      <td>129188</td>\n",
              "      <td>451</td>\n",
              "      <td>26</td>\n",
              "      <td>3</td>\n",
              "      <td>21.17</td>\n",
              "      <td>24</td>\n",
              "      <td>0.31</td>\n",
              "      <td>Master's</td>\n",
              "      <td>Unemployed</td>\n",
              "      <td>Divorced</td>\n",
              "      <td>Yes</td>\n",
              "      <td>Yes</td>\n",
              "      <td>Auto</td>\n",
              "      <td>No</td>\n",
              "      <td>1</td>\n",
              "    </tr>\n",
              "    <tr>\n",
              "      <th>3</th>\n",
              "      <td>V2KKSFM3UN</td>\n",
              "      <td>32</td>\n",
              "      <td>31713</td>\n",
              "      <td>44799</td>\n",
              "      <td>743</td>\n",
              "      <td>0</td>\n",
              "      <td>3</td>\n",
              "      <td>7.07</td>\n",
              "      <td>24</td>\n",
              "      <td>0.23</td>\n",
              "      <td>High School</td>\n",
              "      <td>Full-time</td>\n",
              "      <td>Married</td>\n",
              "      <td>No</td>\n",
              "      <td>No</td>\n",
              "      <td>Business</td>\n",
              "      <td>No</td>\n",
              "      <td>0</td>\n",
              "    </tr>\n",
              "    <tr>\n",
              "      <th>4</th>\n",
              "      <td>EY08JDHTZP</td>\n",
              "      <td>60</td>\n",
              "      <td>20437</td>\n",
              "      <td>9139</td>\n",
              "      <td>633</td>\n",
              "      <td>8</td>\n",
              "      <td>4</td>\n",
              "      <td>6.51</td>\n",
              "      <td>48</td>\n",
              "      <td>0.73</td>\n",
              "      <td>Bachelor's</td>\n",
              "      <td>Unemployed</td>\n",
              "      <td>Divorced</td>\n",
              "      <td>No</td>\n",
              "      <td>Yes</td>\n",
              "      <td>Auto</td>\n",
              "      <td>No</td>\n",
              "      <td>0</td>\n",
              "    </tr>\n",
              "  </tbody>\n",
              "</table>\n",
              "</div>\n",
              "    <div class=\"colab-df-buttons\">\n",
              "\n",
              "  <div class=\"colab-df-container\">\n",
              "    <button class=\"colab-df-convert\" onclick=\"convertToInteractive('df-a7470410-5ef5-48c8-a07f-2e6fae6c0e96')\"\n",
              "            title=\"Convert this dataframe to an interactive table.\"\n",
              "            style=\"display:none;\">\n",
              "\n",
              "  <svg xmlns=\"http://www.w3.org/2000/svg\" height=\"24px\" viewBox=\"0 -960 960 960\">\n",
              "    <path d=\"M120-120v-720h720v720H120Zm60-500h600v-160H180v160Zm220 220h160v-160H400v160Zm0 220h160v-160H400v160ZM180-400h160v-160H180v160Zm440 0h160v-160H620v160ZM180-180h160v-160H180v160Zm440 0h160v-160H620v160Z\"/>\n",
              "  </svg>\n",
              "    </button>\n",
              "\n",
              "  <style>\n",
              "    .colab-df-container {\n",
              "      display:flex;\n",
              "      gap: 12px;\n",
              "    }\n",
              "\n",
              "    .colab-df-convert {\n",
              "      background-color: #E8F0FE;\n",
              "      border: none;\n",
              "      border-radius: 50%;\n",
              "      cursor: pointer;\n",
              "      display: none;\n",
              "      fill: #1967D2;\n",
              "      height: 32px;\n",
              "      padding: 0 0 0 0;\n",
              "      width: 32px;\n",
              "    }\n",
              "\n",
              "    .colab-df-convert:hover {\n",
              "      background-color: #E2EBFA;\n",
              "      box-shadow: 0px 1px 2px rgba(60, 64, 67, 0.3), 0px 1px 3px 1px rgba(60, 64, 67, 0.15);\n",
              "      fill: #174EA6;\n",
              "    }\n",
              "\n",
              "    .colab-df-buttons div {\n",
              "      margin-bottom: 4px;\n",
              "    }\n",
              "\n",
              "    [theme=dark] .colab-df-convert {\n",
              "      background-color: #3B4455;\n",
              "      fill: #D2E3FC;\n",
              "    }\n",
              "\n",
              "    [theme=dark] .colab-df-convert:hover {\n",
              "      background-color: #434B5C;\n",
              "      box-shadow: 0px 1px 3px 1px rgba(0, 0, 0, 0.15);\n",
              "      filter: drop-shadow(0px 1px 2px rgba(0, 0, 0, 0.3));\n",
              "      fill: #FFFFFF;\n",
              "    }\n",
              "  </style>\n",
              "\n",
              "    <script>\n",
              "      const buttonEl =\n",
              "        document.querySelector('#df-a7470410-5ef5-48c8-a07f-2e6fae6c0e96 button.colab-df-convert');\n",
              "      buttonEl.style.display =\n",
              "        google.colab.kernel.accessAllowed ? 'block' : 'none';\n",
              "\n",
              "      async function convertToInteractive(key) {\n",
              "        const element = document.querySelector('#df-a7470410-5ef5-48c8-a07f-2e6fae6c0e96');\n",
              "        const dataTable =\n",
              "          await google.colab.kernel.invokeFunction('convertToInteractive',\n",
              "                                                    [key], {});\n",
              "        if (!dataTable) return;\n",
              "\n",
              "        const docLinkHtml = 'Like what you see? Visit the ' +\n",
              "          '<a target=\"_blank\" href=https://colab.research.google.com/notebooks/data_table.ipynb>data table notebook</a>'\n",
              "          + ' to learn more about interactive tables.';\n",
              "        element.innerHTML = '';\n",
              "        dataTable['output_type'] = 'display_data';\n",
              "        await google.colab.output.renderOutput(dataTable, element);\n",
              "        const docLink = document.createElement('div');\n",
              "        docLink.innerHTML = docLinkHtml;\n",
              "        element.appendChild(docLink);\n",
              "      }\n",
              "    </script>\n",
              "  </div>\n",
              "\n",
              "\n",
              "<div id=\"df-5b34cb52-6b9e-41f8-a63a-1eaae6a52d21\">\n",
              "  <button class=\"colab-df-quickchart\" onclick=\"quickchart('df-5b34cb52-6b9e-41f8-a63a-1eaae6a52d21')\"\n",
              "            title=\"Suggest charts\"\n",
              "            style=\"display:none;\">\n",
              "\n",
              "<svg xmlns=\"http://www.w3.org/2000/svg\" height=\"24px\"viewBox=\"0 0 24 24\"\n",
              "     width=\"24px\">\n",
              "    <g>\n",
              "        <path d=\"M19 3H5c-1.1 0-2 .9-2 2v14c0 1.1.9 2 2 2h14c1.1 0 2-.9 2-2V5c0-1.1-.9-2-2-2zM9 17H7v-7h2v7zm4 0h-2V7h2v10zm4 0h-2v-4h2v4z\"/>\n",
              "    </g>\n",
              "</svg>\n",
              "  </button>\n",
              "\n",
              "<style>\n",
              "  .colab-df-quickchart {\n",
              "      --bg-color: #E8F0FE;\n",
              "      --fill-color: #1967D2;\n",
              "      --hover-bg-color: #E2EBFA;\n",
              "      --hover-fill-color: #174EA6;\n",
              "      --disabled-fill-color: #AAA;\n",
              "      --disabled-bg-color: #DDD;\n",
              "  }\n",
              "\n",
              "  [theme=dark] .colab-df-quickchart {\n",
              "      --bg-color: #3B4455;\n",
              "      --fill-color: #D2E3FC;\n",
              "      --hover-bg-color: #434B5C;\n",
              "      --hover-fill-color: #FFFFFF;\n",
              "      --disabled-bg-color: #3B4455;\n",
              "      --disabled-fill-color: #666;\n",
              "  }\n",
              "\n",
              "  .colab-df-quickchart {\n",
              "    background-color: var(--bg-color);\n",
              "    border: none;\n",
              "    border-radius: 50%;\n",
              "    cursor: pointer;\n",
              "    display: none;\n",
              "    fill: var(--fill-color);\n",
              "    height: 32px;\n",
              "    padding: 0;\n",
              "    width: 32px;\n",
              "  }\n",
              "\n",
              "  .colab-df-quickchart:hover {\n",
              "    background-color: var(--hover-bg-color);\n",
              "    box-shadow: 0 1px 2px rgba(60, 64, 67, 0.3), 0 1px 3px 1px rgba(60, 64, 67, 0.15);\n",
              "    fill: var(--button-hover-fill-color);\n",
              "  }\n",
              "\n",
              "  .colab-df-quickchart-complete:disabled,\n",
              "  .colab-df-quickchart-complete:disabled:hover {\n",
              "    background-color: var(--disabled-bg-color);\n",
              "    fill: var(--disabled-fill-color);\n",
              "    box-shadow: none;\n",
              "  }\n",
              "\n",
              "  .colab-df-spinner {\n",
              "    border: 2px solid var(--fill-color);\n",
              "    border-color: transparent;\n",
              "    border-bottom-color: var(--fill-color);\n",
              "    animation:\n",
              "      spin 1s steps(1) infinite;\n",
              "  }\n",
              "\n",
              "  @keyframes spin {\n",
              "    0% {\n",
              "      border-color: transparent;\n",
              "      border-bottom-color: var(--fill-color);\n",
              "      border-left-color: var(--fill-color);\n",
              "    }\n",
              "    20% {\n",
              "      border-color: transparent;\n",
              "      border-left-color: var(--fill-color);\n",
              "      border-top-color: var(--fill-color);\n",
              "    }\n",
              "    30% {\n",
              "      border-color: transparent;\n",
              "      border-left-color: var(--fill-color);\n",
              "      border-top-color: var(--fill-color);\n",
              "      border-right-color: var(--fill-color);\n",
              "    }\n",
              "    40% {\n",
              "      border-color: transparent;\n",
              "      border-right-color: var(--fill-color);\n",
              "      border-top-color: var(--fill-color);\n",
              "    }\n",
              "    60% {\n",
              "      border-color: transparent;\n",
              "      border-right-color: var(--fill-color);\n",
              "    }\n",
              "    80% {\n",
              "      border-color: transparent;\n",
              "      border-right-color: var(--fill-color);\n",
              "      border-bottom-color: var(--fill-color);\n",
              "    }\n",
              "    90% {\n",
              "      border-color: transparent;\n",
              "      border-bottom-color: var(--fill-color);\n",
              "    }\n",
              "  }\n",
              "</style>\n",
              "\n",
              "  <script>\n",
              "    async function quickchart(key) {\n",
              "      const quickchartButtonEl =\n",
              "        document.querySelector('#' + key + ' button');\n",
              "      quickchartButtonEl.disabled = true;  // To prevent multiple clicks.\n",
              "      quickchartButtonEl.classList.add('colab-df-spinner');\n",
              "      try {\n",
              "        const charts = await google.colab.kernel.invokeFunction(\n",
              "            'suggestCharts', [key], {});\n",
              "      } catch (error) {\n",
              "        console.error('Error during call to suggestCharts:', error);\n",
              "      }\n",
              "      quickchartButtonEl.classList.remove('colab-df-spinner');\n",
              "      quickchartButtonEl.classList.add('colab-df-quickchart-complete');\n",
              "    }\n",
              "    (() => {\n",
              "      let quickchartButtonEl =\n",
              "        document.querySelector('#df-5b34cb52-6b9e-41f8-a63a-1eaae6a52d21 button');\n",
              "      quickchartButtonEl.style.display =\n",
              "        google.colab.kernel.accessAllowed ? 'block' : 'none';\n",
              "    })();\n",
              "  </script>\n",
              "</div>\n",
              "\n",
              "    </div>\n",
              "  </div>\n"
            ],
            "application/vnd.google.colaboratory.intrinsic+json": {
              "type": "dataframe",
              "variable_name": "df"
            }
          },
          "metadata": {},
          "execution_count": 2
        }
      ]
    },
    {
      "cell_type": "code",
      "source": [
        "# Checking for missing values and handle them\n",
        "\n",
        "print(df.isnull().sum())"
      ],
      "metadata": {
        "colab": {
          "base_uri": "https://localhost:8080/"
        },
        "id": "w0SyMasq3tNS",
        "outputId": "3c2408cc-8e29-4791-b4f1-f3f4d597f923"
      },
      "execution_count": 3,
      "outputs": [
        {
          "output_type": "stream",
          "name": "stdout",
          "text": [
            "LoanID            0\n",
            "Age               0\n",
            "Income            0\n",
            "LoanAmount        0\n",
            "CreditScore       0\n",
            "MonthsEmployed    0\n",
            "NumCreditLines    0\n",
            "InterestRate      0\n",
            "LoanTerm          0\n",
            "DTIRatio          0\n",
            "Education         0\n",
            "EmploymentType    0\n",
            "MaritalStatus     0\n",
            "HasMortgage       0\n",
            "HasDependents     0\n",
            "LoanPurpose       0\n",
            "HasCoSigner       0\n",
            "Default           0\n",
            "dtype: int64\n"
          ]
        }
      ]
    },
    {
      "cell_type": "code",
      "source": [
        "def create_prompt(data_point) :\n",
        "     prompt = \"\"\"\n",
        "       Predict the default probability for the following loan applicant:\n",
        "\n",
        "    - Age: {data_point['Age']}\n",
        "    - Income: {data_point['Income']}\n",
        "    - Loan Amount: {data_point['LoanAmount']}\n",
        "    - Credit Score: {data_point['CreditScore']}\n",
        "    - Months Employed: {data_point['MonthsEmployed']}\n",
        "    - Number of Credit Lines: {data_point['NumCreditLines']}\n",
        "    - Interest Rate: {data_point['InterestRate']}\n",
        "    - Loan Term: {data_point['LoanTerm']}\n",
        "    - Debt-to-Income Ratio: {data_point['DTIRatio']}\n",
        "    - Education: {data_point['Education']}\n",
        "    - Employment Type: {data_point['EmploymentType']}\n",
        "    - Marital Status: {data_point['MaritalStatus']}\n",
        "    - Has Mortgage: {data_point['HasMortgage']}\n",
        "    - Has Dependents: {data_point['HasDependents']}\n",
        "    - Loan Purpose: {data_point['LoanPurpose']}\n",
        "    - Has Co-Signer: {data_point['HasCoSigner']}\n",
        "    \"\"\"\n",
        "     return prompt"
      ],
      "metadata": {
        "id": "oqZJtDM94E5n"
      },
      "execution_count": 6,
      "outputs": []
    },
    {
      "cell_type": "code",
      "source": [
        "#  Create a list to store prompts and response\n",
        "data_lists= []"
      ],
      "metadata": {
        "id": "bkkblz8o5AcF"
      },
      "execution_count": 7,
      "outputs": []
    },
    {
      "cell_type": "code",
      "source": [
        "# generate prompts and responses\n",
        "\n",
        "for index , row in df.iterrows() :\n",
        "  prompt = create_prompt(row)\n",
        "  response = row['Default']\n",
        "  data_lists.append((prompt , response))"
      ],
      "metadata": {
        "id": "bCYjBiBt5d1A"
      },
      "execution_count": 8,
      "outputs": []
    },
    {
      "cell_type": "code",
      "source": [
        "data_lists[0]"
      ],
      "metadata": {
        "colab": {
          "base_uri": "https://localhost:8080/"
        },
        "id": "tQOXUP4E52kL",
        "outputId": "90b6ee83-8f48-42ba-ea4a-00a7e54a51a9"
      },
      "execution_count": 10,
      "outputs": [
        {
          "output_type": "execute_result",
          "data": {
            "text/plain": [
              "(\" \\n       Predict the default probability for the following loan applicant:\\n\\n    - Age: {data_point['Age']}\\n    - Income: {data_point['Income']}\\n    - Loan Amount: {data_point['LoanAmount']}\\n    - Credit Score: {data_point['CreditScore']}\\n    - Months Employed: {data_point['MonthsEmployed']}\\n    - Number of Credit Lines: {data_point['NumCreditLines']}\\n    - Interest Rate: {data_point['InterestRate']}\\n    - Loan Term: {data_point['LoanTerm']}\\n    - Debt-to-Income Ratio: {data_point['DTIRatio']}\\n    - Education: {data_point['Education']}\\n    - Employment Type: {data_point['EmploymentType']}\\n    - Marital Status: {data_point['MaritalStatus']}\\n    - Has Mortgage: {data_point['HasMortgage']}\\n    - Has Dependents: {data_point['HasDependents']}\\n    - Loan Purpose: {data_point['LoanPurpose']}\\n    - Has Co-Signer: {data_point['HasCoSigner']}\\n    \",\n",
              " 0)"
            ]
          },
          "metadata": {},
          "execution_count": 10
        }
      ]
    },
    {
      "cell_type": "code",
      "source": [
        "!pip install langchain langchain-community"
      ],
      "metadata": {
        "id": "sePqZSf66LCd"
      },
      "execution_count": null,
      "outputs": []
    },
    {
      "cell_type": "code",
      "source": [
        "from langchain.docstore.document import Document"
      ],
      "metadata": {
        "id": "uDmw3jdw593q"
      },
      "execution_count": 13,
      "outputs": []
    },
    {
      "cell_type": "code",
      "source": [
        "!huggingface-cli login"
      ],
      "metadata": {
        "colab": {
          "base_uri": "https://localhost:8080/"
        },
        "id": "qSe2ueKy8hhF",
        "outputId": "33db1a31-8a8a-4a24-94e5-361afffda233"
      },
      "execution_count": 19,
      "outputs": [
        {
          "output_type": "stream",
          "name": "stdout",
          "text": [
            "\n",
            "    _|    _|  _|    _|    _|_|_|    _|_|_|  _|_|_|  _|      _|    _|_|_|      _|_|_|_|    _|_|      _|_|_|  _|_|_|_|\n",
            "    _|    _|  _|    _|  _|        _|          _|    _|_|    _|  _|            _|        _|    _|  _|        _|\n",
            "    _|_|_|_|  _|    _|  _|  _|_|  _|  _|_|    _|    _|  _|  _|  _|  _|_|      _|_|_|    _|_|_|_|  _|        _|_|_|\n",
            "    _|    _|  _|    _|  _|    _|  _|    _|    _|    _|    _|_|  _|    _|      _|        _|    _|  _|        _|\n",
            "    _|    _|    _|_|      _|_|_|    _|_|_|  _|_|_|  _|      _|    _|_|_|      _|        _|    _|    _|_|_|  _|_|_|_|\n",
            "\n",
            "    To login, `huggingface_hub` requires a token generated from https://huggingface.co/settings/tokens .\n",
            "Enter your token (input will not be visible): \n",
            "Add token as git credential? (Y/n) y\n",
            "Token is valid (permission: fineGrained).\n",
            "\u001b[1m\u001b[31mCannot authenticate through git-credential as no helper is defined on your machine.\n",
            "You might have to re-authenticate when pushing to the Hugging Face Hub.\n",
            "Run the following command in your terminal in case you want to set the 'store' credential helper as default.\n",
            "\n",
            "git config --global credential.helper store\n",
            "\n",
            "Read https://git-scm.com/book/en/v2/Git-Tools-Credential-Storage for more details.\u001b[0m\n",
            "Token has not been saved to git credential helper.\n",
            "Your token has been saved to /root/.cache/huggingface/token\n",
            "Login successful\n"
          ]
        }
      ]
    },
    {
      "cell_type": "code",
      "source": [
        "!pip install sentence-transformers"
      ],
      "metadata": {
        "id": "lBWbhGSt8_A9"
      },
      "execution_count": 22,
      "outputs": []
    },
    {
      "cell_type": "code",
      "source": [
        "from langchain.embeddings import HuggingFaceEmbeddings\n",
        "from langchain.vectorstores import Chroma\n",
        "hf  = HuggingFaceEmbeddings()"
      ],
      "metadata": {
        "id": "jLbNxm176KCV"
      },
      "execution_count": null,
      "outputs": []
    },
    {
      "cell_type": "code",
      "source": [
        "!pip install chromadb"
      ],
      "metadata": {
        "id": "rthLimRl7zIL"
      },
      "execution_count": null,
      "outputs": []
    },
    {
      "cell_type": "code",
      "source": [
        "persist_directory = 'db'"
      ],
      "metadata": {
        "id": "wir5GwzH9K8O"
      },
      "execution_count": 25,
      "outputs": []
    },
    {
      "cell_type": "code",
      "source": [
        "from langchain.vectorstores import Chroma\n",
        "data_lists = [Document(page_content=t[0], Defult=t[1]) for t in data_lists]\n",
        "langchain_chroma = Chroma.from_documents(\n",
        "    documents=data_lists,\n",
        "    collection_name=\"default_prediction\",\n",
        "    embedding=hf,\n",
        "    persist_directory=persist_directory\n",
        ")"
      ],
      "metadata": {
        "id": "qgu0OD5W9WaZ"
      },
      "execution_count": null,
      "outputs": []
    },
    {
      "cell_type": "code",
      "source": [
        "from langchain.chains import RetrievalQA\n",
        "from langchain.prompts import PromptTemplate\n",
        "from langchain_community.llms import HuggingFaceHub\n",
        "\n"
      ],
      "metadata": {
        "id": "Xlv6OWVD9YW8"
      },
      "execution_count": null,
      "outputs": []
    },
    {
      "cell_type": "code",
      "source": [
        "template = \"\"\"\n",
        " You are an Credit Risk Expert in Financial Text data , analyse them and predict is the Given question :\n",
        " {question}\n",
        " Context : {context}\n",
        "\n",
        "Answer :\n",
        "\n",
        "\n",
        "\"\"\""
      ],
      "metadata": {
        "id": "Y8mrb8NM_BWm"
      },
      "execution_count": null,
      "outputs": []
    },
    {
      "cell_type": "code",
      "source": [
        "prompt = PromptTemplate(template=template, input_variables=[\"context\", \"question\"])\n"
      ],
      "metadata": {
        "id": "RPaIpeJ0_aBz"
      },
      "execution_count": null,
      "outputs": []
    },
    {
      "cell_type": "code",
      "source": [
        "model_id = 'HuggingFaceH4/zephyr-7b-beta'\n",
        "llm =  HuggingFaceHub(repo_id=model_id,\n",
        "                      model_kwargs={\"temperature\":0.5,\n",
        "                                    \"max_length\":512})"
      ],
      "metadata": {
        "id": "Ii1VQ7F6APWA"
      },
      "execution_count": null,
      "outputs": []
    },
    {
      "cell_type": "code",
      "source": [
        "retriever = langchain_chroma.as_retriever()\n",
        "qa_chain =  RetrievalQA.from_chain_type(\n",
        "    llm = llm ,\n",
        "    retriever = retriever,\n",
        "    chain_type_kwargs = {\"prompt\":prompt}\n",
        ")\n",
        "\n",
        ""
      ],
      "metadata": {
        "id": "1ewKHpHN_lrN"
      },
      "execution_count": null,
      "outputs": []
    },
    {
      "cell_type": "code",
      "source": [
        "# question = \"The company reported inflated revenues by including sales that never occurred.\"\n",
        "question = \"\\n    Predict the default probability for the following loan applicant:\\n\\n    - Age: 56\\n    - Income: 85994\\n    - Loan Amount: 50587\\n    - Credit Score: 520\\n    - Months Employed: 80\\n    - Number of Credit Lines: 4\\n    - Interest Rate: 15.23\\n    - Loan Term: 36\\n    - Debt-to-Income Ratio: 0.44\\n    - Education: Bachelor's\\n    - Employment Type: Full-time\\n    - Marital Status: Divorced\\n    - Has Mortgage: Yes\\n    - Has Dependents: Yes\\n    - Loan Purpose: Other\\n    - Has Co-Signer: Yes\\n    \"\n",
        "# question = \"Revenue was recognized prematurely before the actual sales occurred.\"\n",
        "# question = \"The balance sheet provides a true and fair view of the company’s financial position.\"\n"
      ],
      "metadata": {
        "id": "AgVrnvQEA9Ul"
      },
      "execution_count": null,
      "outputs": []
    },
    {
      "cell_type": "code",
      "source": [
        "ff = qa_chain({\"query\": question})\n",
        "    display(ff[\"result\"])"
      ],
      "metadata": {
        "id": "yKmNM3_kBDxy"
      },
      "execution_count": null,
      "outputs": []
    }
  ]
}